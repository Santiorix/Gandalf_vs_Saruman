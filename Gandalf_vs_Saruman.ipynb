{
 "cells": [
  {
   "cell_type": "code",
   "execution_count": 4,
   "id": "93347dde",
   "metadata": {},
   "outputs": [
    {
     "data": {
      "text/plain": [
       "10"
      ]
     },
     "execution_count": 4,
     "metadata": {},
     "output_type": "execute_result"
    }
   ],
   "source": [
    "gandalf = [10, 11, 13, 30, 22, 11, 10, 33, 22, 22]\n",
    "saruman = [23, 66, 12, 43, 12, 10, 44, 23, 12, 17]\n",
    "g_total_wins = 0\n",
    "saruman_total_wins = 0\n",
    "gandalf[0]"
   ]
  },
  {
   "cell_type": "code",
   "execution_count": 20,
   "id": "3af2a098",
   "metadata": {},
   "outputs": [
    {
     "name": "stdout",
     "output_type": "stream",
     "text": [
      "54\n"
     ]
    }
   ],
   "source": [
    "for x in range (len(gandalf)):\n",
    "    if gandalf[x]>saruman [x]:\n",
    "        g_total_wins += 1\n",
    "    else:\n",
    "        saruman_total_wins += 1\n",
    "print(g_total_wins)"
   ]
  },
  {
   "cell_type": "code",
   "execution_count": 19,
   "id": "886e2d05",
   "metadata": {},
   "outputs": [
    {
     "data": {
      "text/plain": [
       "10"
      ]
     },
     "execution_count": 19,
     "metadata": {},
     "output_type": "execute_result"
    }
   ],
   "source": [
    "len(gandalf)"
   ]
  },
  {
   "cell_type": "code",
   "execution_count": 9,
   "id": "6b6162eb",
   "metadata": {},
   "outputs": [
    {
     "name": "stdout",
     "output_type": "stream",
     "text": [
      "10\n",
      "11\n",
      "13\n",
      "30\n",
      "22\n",
      "11\n",
      "10\n",
      "33\n",
      "22\n",
      "22\n"
     ]
    }
   ],
   "source": [
    "for x in range (len(gandalf)):\n",
    "    print(gandalf[x])"
   ]
  },
  {
   "cell_type": "code",
   "execution_count": 44,
   "id": "c13908a4",
   "metadata": {},
   "outputs": [
    {
     "name": "stdout",
     "output_type": "stream",
     "text": [
      "Gandalf Wins\n"
     ]
    }
   ],
   "source": [
    "for x in range (len(gandalf)):\n",
    "    if gandalf[x]>saruman [x]:\n",
    "        g_total_wins += 1\n",
    "    else:\n",
    "        saruman_total_wins += 1\n",
    "\n",
    "if g_total_wins > saruman_total_wins:\n",
    "    print (\"Gandalf Wins\")\n",
    "elif g_total_wins < saruman_total_wins:\n",
    "    print (\"Saruman Wins\")\n",
    "else:\n",
    "    print (\"Tie\")\n"
   ]
  },
  {
   "cell_type": "code",
   "execution_count": null,
   "id": "79439d21",
   "metadata": {},
   "outputs": [],
   "source": []
  }
 ],
 "metadata": {
  "kernelspec": {
   "display_name": "Python 3",
   "language": "python",
   "name": "python3"
  },
  "language_info": {
   "codemirror_mode": {
    "name": "ipython",
    "version": 3
   },
   "file_extension": ".py",
   "mimetype": "text/x-python",
   "name": "python",
   "nbconvert_exporter": "python",
   "pygments_lexer": "ipython3",
   "version": "3.8.8"
  }
 },
 "nbformat": 4,
 "nbformat_minor": 5
}
